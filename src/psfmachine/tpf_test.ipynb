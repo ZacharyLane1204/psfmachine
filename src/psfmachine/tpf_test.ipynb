{
 "cells": [
  {
   "cell_type": "code",
   "execution_count": 1,
   "metadata": {},
   "outputs": [],
   "source": [
    "import psfmachine as psf\n",
    "import lightkurve as lk\n",
    "import numpy as np\n",
    "import pandas as pd\n",
    "from astropy.coordinates import SkyCoord, Angle\n",
    "from astroquery.gaia import Gaia\n",
    "import astropy.units as u\n",
    "import matplotlib.pyplot as plt\n",
    "from astropy.io import fits\n",
    "import warnings\n",
    "from scipy import sparse\n",
    "\n",
    "warnings.filterwarnings(\"ignore\", category=RuntimeWarning)\n",
    "warnings.filterwarnings(\"ignore\", category=sparse.SparseEfficiencyWarning)\n",
    "\n",
    "%matplotlib widget"
   ]
  },
  {
   "cell_type": "code",
   "execution_count": 2,
   "metadata": {},
   "outputs": [],
   "source": [
    "def query_gaia_region(ra, dec, radius_deg, maglim = 17):\n",
    "    # Define the central coordinates of your region\n",
    "    Gaia.ROW_LIMIT = 20\n",
    "    coords = SkyCoord(ra=ra, dec=dec, unit=(u.degree, u.degree), frame='icrs')\n",
    "\n",
    "    # Define the search radius (half of the square side length)\n",
    "    radius = radius_deg * u.degree\n",
    "\n",
    "    # Query Gaia data\n",
    "    job = Gaia.cone_search_async(coords, radius=radius)\n",
    "    result = job.get_results().to_pandas()\n",
    "\n",
    "    result = result[result['phot_g_mean_mag'] < maglim]\n",
    "\n",
    "    df_first_row = result.iloc[[0]].reset_index(drop=True)\n",
    "\n",
    "    return df_first_row\n"
   ]
  },
  {
   "cell_type": "code",
   "execution_count": 3,
   "metadata": {},
   "outputs": [
    {
     "name": "stderr",
     "output_type": "stream",
     "text": [
      "2024-06-24 01:20:40,260 - astroquery - INFO - Query finished.\n"
     ]
    },
    {
     "name": "stdout",
     "output_type": "stream",
     "text": [
      "INFO: Query finished. [astroquery.utils.tap.core]\n",
      "0    202.968879\n",
      "Name: ra, dtype: float64 0   -10.759365\n",
      "Name: dec, dtype: float64\n",
      "<class 'pandas.core.frame.DataFrame'>\n",
      "TargetPixelFileCollection of 1 objects:\n",
      "    0: KeplerTargetPixelFile Object (ID: 212593538)\n"
     ]
    }
   ],
   "source": [
    "ra = 202.9625\n",
    "dec = -10.736\n",
    "\n",
    "result = query_gaia_region(ra, dec, 3, maglim = 17)\n",
    "print(result['ra'], result['dec'])\n",
    "print(type(result))\n",
    "\n",
    "target_str = str(ra) + ' ' + str(dec)\n",
    "\n",
    "tpfs = lk.search_targetpixelfile(target_str, mission='K2', campaign = 6, radius=2, limit=6, cadence='long').download_all(quality_bitmask=None)\n",
    "\n",
    "print(tpfs)"
   ]
  },
  {
   "cell_type": "code",
   "execution_count": 4,
   "metadata": {},
   "outputs": [
    {
     "name": "stderr",
     "output_type": "stream",
     "text": [
      "2024-06-24 01:20:51,065 - astroquery - INFO - Query finished.\n"
     ]
    },
    {
     "name": "stdout",
     "output_type": "stream",
     "text": [
      "INFO: Query finished. [astroquery.utils.tap.core]\n",
      "Querying Gaia: 1 sources found.\n",
      "Init sources: 1\n",
      "pre-comp sources 1\n",
      "comps: 1 1\n",
      "line 240\n"
     ]
    },
    {
     "data": {
      "text/plain": [
       "TPFMachine (N sources, N times, N pixels): (1, 3544, 63)"
      ]
     },
     "execution_count": 4,
     "metadata": {},
     "output_type": "execute_result"
    }
   ],
   "source": [
    "machine = psf.TPFMachine.from_TPFs(tpfs)\n",
    "machine"
   ]
  },
  {
   "cell_type": "code",
   "execution_count": 5,
   "metadata": {},
   "outputs": [
    {
     "name": "stdout",
     "output_type": "stream",
     "text": [
      "source_rad: [7.20448699]\n",
      "source_flux_estimates: 13651.763646284264\n",
      "f: [[1.70180512 1.35836522 1.29929349 1.74795384 1.18446098 1.20774146\n",
      "  1.4429423  1.91438758 1.62240968 1.44825285 1.49980891 1.75862342\n",
      "  2.1886202  1.60090764 1.61559192 1.43224868 2.23801144 1.68764781\n",
      "  1.96732556 2.30095434 2.23941836 2.02402315 2.35890039 1.49617159\n",
      "  1.65480786 2.03426589 2.36464393 2.85436369 2.90848927 2.65935475\n",
      "  2.10521442 1.86683562 1.87752606 2.22357017 2.46042495 2.97531438\n",
      "  2.89252771 2.52068123 2.20331619 1.81021907 2.78473293 1.75996307\n",
      "  2.2332958  2.07854356 2.11502483 1.92499904 1.77728484 1.60560873\n",
      "  2.79135989 2.58390103 2.78175257 2.45873142 1.88635107 1.71406262\n",
      "  1.48579879 2.1913802  0.71211523 1.49302246 1.56207803 2.0759129\n",
      "  1.66281362 1.6749766  1.21738634]]\n",
      "test_val: [[3.02136981 3.01827972 3.01518963 ... 2.74017173 2.73708164 2.73399155]\n",
      " [3.02136981 3.01827972 3.01518963 ... 2.74017173 2.73708164 2.73399155]\n",
      " [3.02136981 3.01827972 3.01518963 ... 2.74017173 2.73708164 2.73399155]\n",
      " ...\n",
      " [3.02136981 3.01827972 3.01518963 ... 2.74017173 2.73708164 2.73399155]\n",
      " [3.02136981 3.01827972 3.01518963 ... 2.74017173 2.73708164 2.73399155]\n",
      " [3.02136981 3.01827972 3.01518963 ... 2.74017173 2.73708164 2.73399155]]\n",
      "dra_m: []\n",
      "ddec_m: []\n",
      "wgts: []\n"
     ]
    },
    {
     "name": "stderr",
     "output_type": "stream",
     "text": [
      "/Users/zgl12/anaconda3/lib/python3.11/site-packages/psfmachine/machine.py:507: RankWarning: Polyfit may be poorly conditioned\n",
      "  np.polyfit(test_f[ok], l[ok], 1), np.log10(self.source_flux_estimates)\n"
     ]
    },
    {
     "ename": "ZeroDivisionError",
     "evalue": "Weights sum to zero, can't be normalized",
     "output_type": "error",
     "traceback": [
      "\u001b[0;31m---------------------------------------------------------------------------\u001b[0m",
      "\u001b[0;31mZeroDivisionError\u001b[0m                         Traceback (most recent call last)",
      "Cell \u001b[0;32mIn[5], line 1\u001b[0m\n\u001b[0;32m----> 1\u001b[0m machine\u001b[38;5;241m.\u001b[39mremove_background_model(plot\u001b[38;5;241m=\u001b[39m\u001b[38;5;28;01mTrue\u001b[39;00m)\n\u001b[1;32m      2\u001b[0m plt\u001b[38;5;241m.\u001b[39mshow()\n",
      "File \u001b[0;32m~/anaconda3/lib/python3.11/site-packages/psfmachine/tpf.py:186\u001b[0m, in \u001b[0;36mTPFMachine.remove_background_model\u001b[0;34m(self, plot, data_augment, zero_centered)\u001b[0m\n\u001b[1;32m    184\u001b[0m \u001b[38;5;66;03m# invert maks to get bkg pixels from TPFs\u001b[39;00m\n\u001b[1;32m    185\u001b[0m \u001b[38;5;28;01mif\u001b[39;00m \u001b[38;5;129;01mnot\u001b[39;00m \u001b[38;5;28mhasattr\u001b[39m(\u001b[38;5;28mself\u001b[39m, \u001b[38;5;124m\"\u001b[39m\u001b[38;5;124msource_mask\u001b[39m\u001b[38;5;124m\"\u001b[39m):\n\u001b[0;32m--> 186\u001b[0m     \u001b[38;5;28mself\u001b[39m\u001b[38;5;241m.\u001b[39m_get_source_mask(correct_centroid_offset\u001b[38;5;241m=\u001b[39m\u001b[38;5;28;01mTrue\u001b[39;00m)\n\u001b[1;32m    187\u001b[0m bkg_pixel_mask \u001b[38;5;241m=\u001b[39m \u001b[38;5;241m~\u001b[39mnp\u001b[38;5;241m.\u001b[39masarray(\n\u001b[1;32m    188\u001b[0m     (\u001b[38;5;28mself\u001b[39m\u001b[38;5;241m.\u001b[39msource_mask\u001b[38;5;241m.\u001b[39mtodense())\u001b[38;5;241m.\u001b[39msum(axis\u001b[38;5;241m=\u001b[39m\u001b[38;5;241m0\u001b[39m)\u001b[38;5;241m.\u001b[39mastype(\u001b[38;5;28mbool\u001b[39m)\n\u001b[1;32m    189\u001b[0m )\u001b[38;5;241m.\u001b[39mravel()\n\u001b[1;32m    190\u001b[0m bkg_row \u001b[38;5;241m=\u001b[39m \u001b[38;5;28mself\u001b[39m\u001b[38;5;241m.\u001b[39mrow\n",
      "File \u001b[0;32m~/anaconda3/lib/python3.11/site-packages/psfmachine/machine.py:533\u001b[0m, in \u001b[0;36mMachine._get_source_mask\u001b[0;34m(self, upper_radius_limit, lower_radius_limit, upper_flux_limit, lower_flux_limit, correct_centroid_offset, plot)\u001b[0m\n\u001b[1;32m    530\u001b[0m \u001b[38;5;66;03m# Now we can update the r and phi estimates, allowing for a slight centroid\u001b[39;00m\n\u001b[1;32m    531\u001b[0m \u001b[38;5;66;03m# calculate image centroids and correct dra,ddec for offset.\u001b[39;00m\n\u001b[1;32m    532\u001b[0m \u001b[38;5;28;01mif\u001b[39;00m correct_centroid_offset:\n\u001b[0;32m--> 533\u001b[0m     \u001b[38;5;28mself\u001b[39m\u001b[38;5;241m.\u001b[39m_get_centroids()\n\u001b[1;32m    534\u001b[0m     \u001b[38;5;66;03m# print(self.ra_centroid_avg.to(\"arcsec\"), self.dec_centroid_avg.to(\"arcsec\"))\u001b[39;00m\n\u001b[1;32m    535\u001b[0m     \u001b[38;5;66;03m# re-estimate dra, ddec with centroid shifts, check if sparse case applies.\u001b[39;00m\n\u001b[1;32m    536\u001b[0m     \u001b[38;5;66;03m# Hardcoded: sparse implementation is efficient when nsourxes * npixels < 1e7\u001b[39;00m\n\u001b[1;32m    537\u001b[0m     \u001b[38;5;66;03m# (JMP profile this)\u001b[39;00m\n\u001b[1;32m    538\u001b[0m     \u001b[38;5;66;03m# https://github.com/SSDataLab/psfmachine/pull/17#issuecomment-866382898\u001b[39;00m\n\u001b[1;32m    539\u001b[0m     \u001b[38;5;28;01mif\u001b[39;00m \u001b[38;5;28mself\u001b[39m\u001b[38;5;241m.\u001b[39mnsources \u001b[38;5;241m*\u001b[39m \u001b[38;5;28mself\u001b[39m\u001b[38;5;241m.\u001b[39mnpixels \u001b[38;5;241m<\u001b[39m \u001b[38;5;241m1e7\u001b[39m:\n",
      "File \u001b[0;32m~/anaconda3/lib/python3.11/site-packages/psfmachine/machine.py:650\u001b[0m, in \u001b[0;36mMachine._get_centroids\u001b[0;34m(self)\u001b[0m\n\u001b[1;32m    646\u001b[0m     \u001b[38;5;66;03m# mask out non finite values and background pixels\u001b[39;00m\n\u001b[1;32m    647\u001b[0m     k \u001b[38;5;241m=\u001b[39m (np\u001b[38;5;241m.\u001b[39misfinite(wgts)) \u001b[38;5;241m&\u001b[39m (\n\u001b[1;32m    648\u001b[0m         \u001b[38;5;28mself\u001b[39m\u001b[38;5;241m.\u001b[39muncontaminated_source_mask\u001b[38;5;241m.\u001b[39mmultiply(\u001b[38;5;28mself\u001b[39m\u001b[38;5;241m.\u001b[39mflux[t])\u001b[38;5;241m.\u001b[39mdata \u001b[38;5;241m>\u001b[39m \u001b[38;5;241m100\u001b[39m\n\u001b[1;32m    649\u001b[0m     )\n\u001b[0;32m--> 650\u001b[0m     \u001b[38;5;28mself\u001b[39m\u001b[38;5;241m.\u001b[39mra_centroid[t] \u001b[38;5;241m=\u001b[39m np\u001b[38;5;241m.\u001b[39maverage(dra_m[k], weights\u001b[38;5;241m=\u001b[39mwgts[k])\n\u001b[1;32m    651\u001b[0m     \u001b[38;5;28mself\u001b[39m\u001b[38;5;241m.\u001b[39mdec_centroid[t] \u001b[38;5;241m=\u001b[39m np\u001b[38;5;241m.\u001b[39maverage(ddec_m[k], weights\u001b[38;5;241m=\u001b[39mwgts[k])\n\u001b[1;32m    652\u001b[0m \u001b[38;5;28;01mdel\u001b[39;00m dra_m, ddec_m\n",
      "File \u001b[0;32m~/anaconda3/lib/python3.11/site-packages/numpy/lib/function_base.py:550\u001b[0m, in \u001b[0;36maverage\u001b[0;34m(a, axis, weights, returned, keepdims)\u001b[0m\n\u001b[1;32m    548\u001b[0m     scl \u001b[38;5;241m=\u001b[39m wgt\u001b[38;5;241m.\u001b[39msum(axis\u001b[38;5;241m=\u001b[39maxis, dtype\u001b[38;5;241m=\u001b[39mresult_dtype, \u001b[38;5;241m*\u001b[39m\u001b[38;5;241m*\u001b[39mkeepdims_kw)\n\u001b[1;32m    549\u001b[0m     \u001b[38;5;28;01mif\u001b[39;00m np\u001b[38;5;241m.\u001b[39many(scl \u001b[38;5;241m==\u001b[39m \u001b[38;5;241m0.0\u001b[39m):\n\u001b[0;32m--> 550\u001b[0m         \u001b[38;5;28;01mraise\u001b[39;00m \u001b[38;5;167;01mZeroDivisionError\u001b[39;00m(\n\u001b[1;32m    551\u001b[0m             \u001b[38;5;124m\"\u001b[39m\u001b[38;5;124mWeights sum to zero, can\u001b[39m\u001b[38;5;124m'\u001b[39m\u001b[38;5;124mt be normalized\u001b[39m\u001b[38;5;124m\"\u001b[39m)\n\u001b[1;32m    553\u001b[0m     avg \u001b[38;5;241m=\u001b[39m avg_as_array \u001b[38;5;241m=\u001b[39m np\u001b[38;5;241m.\u001b[39mmultiply(a, wgt,\n\u001b[1;32m    554\u001b[0m                       dtype\u001b[38;5;241m=\u001b[39mresult_dtype)\u001b[38;5;241m.\u001b[39msum(axis, \u001b[38;5;241m*\u001b[39m\u001b[38;5;241m*\u001b[39mkeepdims_kw) \u001b[38;5;241m/\u001b[39m scl\n\u001b[1;32m    556\u001b[0m \u001b[38;5;28;01mif\u001b[39;00m returned:\n",
      "\u001b[0;31mZeroDivisionError\u001b[0m: Weights sum to zero, can't be normalized"
     ]
    }
   ],
   "source": [
    "machine.remove_background_model(plot=True)\n",
    "plt.show()"
   ]
  },
  {
   "cell_type": "code",
   "execution_count": null,
   "metadata": {},
   "outputs": [],
   "source": []
  },
  {
   "cell_type": "code",
   "execution_count": null,
   "metadata": {},
   "outputs": [],
   "source": []
  }
 ],
 "metadata": {
  "kernelspec": {
   "display_name": "base",
   "language": "python",
   "name": "python3"
  },
  "language_info": {
   "codemirror_mode": {
    "name": "ipython",
    "version": 3
   },
   "file_extension": ".py",
   "mimetype": "text/x-python",
   "name": "python",
   "nbconvert_exporter": "python",
   "pygments_lexer": "ipython3",
   "version": "3.11.5"
  }
 },
 "nbformat": 4,
 "nbformat_minor": 2
}
